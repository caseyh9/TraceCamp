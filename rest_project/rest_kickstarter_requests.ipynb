{
 "cells": [
  {
   "cell_type": "code",
   "execution_count": 4,
   "metadata": {},
   "outputs": [
    {
     "name": "stdout",
     "output_type": "stream",
     "text": [
      "<Response [201]>\n"
     ]
    }
   ],
   "source": [
    "import requests\n",
    "\n",
    "# POST to kickstarters\n",
    "post_api = requests.post('http://127.0.0.1:8000/KickStarter/',\n",
    "            data = {'backers_count':'6', 'blurb':'Stuff', \n",
    "                    'category':'cat', 'converted_pledged_amount':'243'}\n",
    "            )\n",
    "print(post_api)"
   ]
  },
  {
   "cell_type": "code",
   "execution_count": 7,
   "metadata": {},
   "outputs": [
    {
     "name": "stdout",
     "output_type": "stream",
     "text": [
      "[{'id': 1, 'backers_count': 31, 'blurb': 'Whatup.', 'category': 'this one', 'converted_pledged_amount': 16}, {'id': 2, 'backers_count': 87, 'blurb': 'blurbubububu', 'category': 'another one', 'converted_pledged_amount': 987}, {'id': 3, 'backers_count': 84, 'blurb': 'yoyoyoyooyooyoyoyo', 'category': 'category ab', 'converted_pledged_amount': 28483}, {'id': 4, 'backers_count': 84, 'blurb': 'yoyoyoyooyooyoyoyo', 'category': 'category ab', 'converted_pledged_amount': 28483}, {'id': 5, 'backers_count': 4, 'blurb': 'Something', 'category': 'the one over here', 'converted_pledged_amount': 34}, {'id': 6, 'backers_count': 6, 'blurb': 'Stuff', 'category': 'cat', 'converted_pledged_amount': 243}]\n"
     ]
    }
   ],
   "source": [
    "# GET list of kickstarters\n",
    "get_list_api = requests.get('http://127.0.0.1:8000/KickStarter/')\n",
    "print(get_list_api.json())"
   ]
  },
  {
   "cell_type": "code",
   "execution_count": 14,
   "metadata": {},
   "outputs": [
    {
     "name": "stdout",
     "output_type": "stream",
     "text": [
      "{'id': 1, 'backers_count': 31, 'blurb': 'Whatup.', 'category': 'this one', 'converted_pledged_amount': 16}\n"
     ]
    }
   ],
   "source": [
    "# GET a single kickstarter\n",
    "kick_id = '1'\n",
    "get_single_api = requests.get(f'http://127.0.0.1:8000/KickStarter/{kick_id}/')\n",
    "print(get_single_api.json())"
   ]
  },
  {
   "cell_type": "code",
   "execution_count": 16,
   "metadata": {},
   "outputs": [
    {
     "name": "stdout",
     "output_type": "stream",
     "text": [
      "<Response [200]>\n"
     ]
    }
   ],
   "source": [
    "# PUT a single kickstarter\n",
    "kick_id = '6'\n",
    "put_api = requests.put(f'http://127.0.0.1:8000/KickStarter/{kick_id}/',\n",
    "            {'backers_count':'23', 'blurb':'a new blurb',\n",
    "             'category':'dog','converted_pledged_amount':'533'}\n",
    "            )\n",
    "print(put_api)"
   ]
  },
  {
   "cell_type": "code",
   "execution_count": 17,
   "metadata": {},
   "outputs": [
    {
     "name": "stdout",
     "output_type": "stream",
     "text": [
      "<Response [204]>\n"
     ]
    }
   ],
   "source": [
    "# DELETE a single kickstarter\n",
    "kick_id = '1'\n",
    "delete_api = requests.delete(f'http://127.0.0.1:8000/KickStarter/{kick_id}/')\n",
    "print(delete_api)"
   ]
  }
 ],
 "metadata": {
  "kernelspec": {
   "display_name": "Python 3",
   "language": "python",
   "name": "python3"
  },
  "language_info": {
   "codemirror_mode": {
    "name": "ipython",
    "version": 3
   },
   "file_extension": ".py",
   "mimetype": "text/x-python",
   "name": "python",
   "nbconvert_exporter": "python",
   "pygments_lexer": "ipython3",
   "version": "3.7.0"
  }
 },
 "nbformat": 4,
 "nbformat_minor": 2
}
